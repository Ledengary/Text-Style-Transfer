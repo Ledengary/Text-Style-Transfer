{
 "cells": [
  {
   "cell_type": "code",
   "execution_count": null,
   "metadata": {},
   "outputs": [],
   "source": [
    "import pandas as pd\n",
    "import numpy as np\n",
    "from numpy import array\n",
    "import codecs\n",
    "from os import listdir\n",
    "import codecs\n",
    "import re\n",
    "import string\n",
    "import pickle\n",
    "from sklearn.model_selection import train_test_split\n",
    "from keras.preprocessing.text import Tokenizer\n",
    "from keras.preprocessing.sequence import pad_sequences\n",
    "language = 'PERSIAN'\n",
    "path_prefix = ''\n",
    "if language == 'PERSIAN':\n",
    "    path_prefix = 'English files/'"
   ]
  },
  {
   "cell_type": "code",
   "execution_count": null,
   "metadata": {},
   "outputs": [],
   "source": [
    "def load_docs(given_path):\n",
    "    docs = []\n",
    "    counter = 0\n",
    "    for fileName in listdir(given_path):\n",
    "        counter += 1\n",
    "        file = open(given_path + fileName, 'r', encoding='utf-8')\n",
    "        text = file.read()\n",
    "        docs.append(text.split())\n",
    "        file.close()\n",
    "        if language == 'ENGLISH' and counter == 50000: break\n",
    "        print(counter)\n",
    "    return docs\n",
    "\n",
    "formal_male_data = None\n",
    "formal_female_data = None\n",
    "if language == 'PERSIAN':\n",
    "    formal_male_data = load_docs('Gender tagged corpus cleaned/NEW/formal language/male/')\n",
    "    formal_female_data = load_docs('Gender tagged corpus cleaned/NEW/formal language/female/')\n",
    "    print('PERSIAN docs loaded')\n",
    "else:\n",
    "    formal_male_data = load_docs('Gender tagged corpus English/male/')\n",
    "    formal_female_data = load_docs('Gender tagged corpus English/female/')\n",
    "    print('ENGLISH docs loaded')\n",
    "\n",
    "all_data = formal_male_data + formal_female_data\n",
    "all_labels = [1] * len(formal_male_data) + [0] * len(formal_female_data)\n",
    "print(len(all_data))\n",
    "print(len(formal_male_data), len(formal_female_data))"
   ]
  },
  {
   "cell_type": "code",
   "execution_count": null,
   "metadata": {},
   "outputs": [],
   "source": [
    "features = 300\n",
    "tokenizer = Tokenizer(num_words = features)\n",
    "tokenizer.fit_on_texts(all_data)\n",
    "with open(path_prefix + 'GenderTokenizer.pickle', 'wb') as handle:\n",
    "    pickle.dump(tokenizer, handle, protocol=pickle.HIGHEST_PROTOCOL)\n",
    "    print(\"Tokenizer saved.\")\n",
    "word_index = tokenizer.word_index\n",
    "X = tokenizer.texts_to_sequences(all_data)\n",
    "max_length = max([len(sent) for sent in X])\n",
    "vocab_size = len(tokenizer.word_index) + 1\n",
    "X = pad_sequences(X, padding='post')\n",
    "y = all_labels\n",
    "X_train, X_test, y_train, y_test = train_test_split(X, y, test_size=0.2, shuffle=True)\n",
    "X_train, X_val, y_train, y_val = train_test_split(X_train, y_train, test_size=0.2, shuffle=True)\n",
    "print(len(X_train), len(X_val), len(X_test))\n",
    "print(vocab_size, max_length)"
   ]
  },
  {
   "cell_type": "code",
   "execution_count": null,
   "metadata": {},
   "outputs": [],
   "source": [
    "from sklearn.linear_model import LogisticRegression\n",
    "model = LogisticRegression()\n",
    "model.fit(X_train[:40000], y_train[:40000])"
   ]
  },
  {
   "cell_type": "code",
   "execution_count": null,
   "metadata": {},
   "outputs": [],
   "source": [
    "predictions = model.predict(X_test[:10000])"
   ]
  },
  {
   "cell_type": "code",
   "execution_count": null,
   "metadata": {},
   "outputs": [],
   "source": [
    "rights = 0\n",
    "for i, each in enumerate(predictions):\n",
    "    if y_test[i] == each:\n",
    "        rights += 1\n",
    "print('Logistic Regression accuracy: %.2f' % ((rights * 100) / len(y_test)))"
   ]
  },
  {
   "cell_type": "code",
   "execution_count": null,
   "metadata": {},
   "outputs": [],
   "source": []
  }
 ],
 "metadata": {
  "kernelspec": {
   "display_name": "Python 3",
   "language": "python",
   "name": "python3"
  },
  "language_info": {
   "codemirror_mode": {
    "name": "ipython",
    "version": 3
   },
   "file_extension": ".py",
   "mimetype": "text/x-python",
   "name": "python",
   "nbconvert_exporter": "python",
   "pygments_lexer": "ipython3",
   "version": "3.7.4"
  }
 },
 "nbformat": 4,
 "nbformat_minor": 2
}
